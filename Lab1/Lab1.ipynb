{
 "cells": [
  {
   "cell_type": "markdown",
   "id": "b97c4278-5207-47de-8e9d-a1f1df9be0d0",
   "metadata": {},
   "source": [
    "# IAB330 Tutorial 1: Introduction to Python Programming\n",
    "\n",
    "***Unit Coordinator: A/Prof Sara Khalifa (sara.khalifa@qut.edu.au)***\n",
    "\n",
    "***Tutor: Mr. Tao Liu (t24.liu@hdr.qut.edu.au)***\n",
    "\n",
    "***Tutor: Sk Tanzir Mehedi (s.tanzir@qut.edu.au)***"
   ]
  },
  {
   "cell_type": "markdown",
   "id": "51d70441-175c-48b0-8f4a-cb17a9cfccae",
   "metadata": {},
   "source": [
    "## Basic Syntax and Data Types"
   ]
  },
  {
   "cell_type": "markdown",
   "id": "63219705-e1bb-47b0-a539-e603d2788ac5",
   "metadata": {},
   "source": [
    "***Hello World Example***"
   ]
  },
  {
   "cell_type": "code",
   "execution_count": 5,
   "id": "4e0f84c2-e913-4707-bd29-c18844e34848",
   "metadata": {},
   "outputs": [
    {
     "name": "stdout",
     "output_type": "stream",
     "text": [
      "Hello World\n"
     ]
    }
   ],
   "source": [
    "print(\"Hello World\")  # Output: Hello World"
   ]
  },
  {
   "cell_type": "markdown",
   "id": "77434e7e-d7f7-41b6-a320-c741edefe29d",
   "metadata": {},
   "source": [
    "***String Concatenation***"
   ]
  },
  {
   "cell_type": "code",
   "execution_count": 8,
   "id": "726de665-9772-41ba-8062-c106b54745d9",
   "metadata": {},
   "outputs": [
    {
     "name": "stdout",
     "output_type": "stream",
     "text": [
      "Hello, Alice\n"
     ]
    }
   ],
   "source": [
    "name = \"Alice\"\n",
    "print(\"Hello, \" + name)  # Output: Hello, Alice"
   ]
  },
  {
   "cell_type": "markdown",
   "id": "39cd93c2-3b84-4e74-bcd6-6490260affd6",
   "metadata": {},
   "source": [
    "***Variable Initialization***"
   ]
  },
  {
   "cell_type": "code",
   "execution_count": 9,
   "id": "521b4328-1e4b-480e-be21-6ac6e8c5ab40",
   "metadata": {},
   "outputs": [],
   "source": [
    "number = 3       # Integer\n",
    "age = 3.1        # Float\n",
    "name = \"Bob\"     # String\n",
    "is_student = True  # Boolean"
   ]
  },
  {
   "cell_type": "code",
   "execution_count": 10,
   "id": "164f9ebb-b0ff-455d-9da0-dd58032d39a9",
   "metadata": {},
   "outputs": [
    {
     "data": {
      "text/plain": [
       "3"
      ]
     },
     "execution_count": 10,
     "metadata": {},
     "output_type": "execute_result"
    }
   ],
   "source": [
    "number"
   ]
  },
  {
   "cell_type": "markdown",
   "id": "95384f65-7ad1-489a-8bd5-6ff427ff27b5",
   "metadata": {},
   "source": [
    "## List"
   ]
  },
  {
   "cell_type": "markdown",
   "id": "daa240c2-904f-4aa8-8c38-ac967168c49e",
   "metadata": {},
   "source": [
    "***List Initialization and Access***"
   ]
  },
  {
   "cell_type": "code",
   "execution_count": 11,
   "id": "26266652-d257-43af-8a7d-185e09c96418",
   "metadata": {},
   "outputs": [
    {
     "name": "stdout",
     "output_type": "stream",
     "text": [
      "False\n",
      "a\n",
      "2.0\n",
      "3\n"
     ]
    }
   ],
   "source": [
    "my_list = [False, \"a\", 2.0, 3]\n",
    "print(my_list[0])  # Output: False\n",
    "print(my_list[1])  # Output: \"a\"\n",
    "print(my_list[2])  # Output: 2.0\n",
    "print(my_list[3])  # Output: 3"
   ]
  },
  {
   "cell_type": "markdown",
   "id": "33c4196f-444a-42ae-b8cf-03effb84af05",
   "metadata": {},
   "source": [
    "***List Slicing***"
   ]
  },
  {
   "cell_type": "code",
   "execution_count": 12,
   "id": "3799efc6-834b-4d02-abd9-e4583625b4a0",
   "metadata": {},
   "outputs": [
    {
     "name": "stdout",
     "output_type": "stream",
     "text": [
      "['banana', 'cherry']\n"
     ]
    }
   ],
   "source": [
    "fruits = [\"apple\", \"banana\", \"cherry\"]\n",
    "print(fruits[1:3])  # Output: ['banana', 'cherry']"
   ]
  },
  {
   "cell_type": "markdown",
   "id": "1a430d1c-1c70-4a00-b802-c45f86c300dd",
   "metadata": {},
   "source": [
    "***Iterating Over a List***"
   ]
  },
  {
   "cell_type": "code",
   "execution_count": 13,
   "id": "6f49f260-ae63-4486-bf42-ffdd72ee9a1f",
   "metadata": {},
   "outputs": [
    {
     "name": "stdout",
     "output_type": "stream",
     "text": [
      "apple\n",
      "banana\n",
      "cherry\n"
     ]
    }
   ],
   "source": [
    "for fruit in fruits:\n",
    "    print(fruit)  # Prints each fruit in separate lines"
   ]
  },
  {
   "cell_type": "markdown",
   "id": "b862f99e-bf2c-4038-81e0-fe2d8ef11d48",
   "metadata": {},
   "source": [
    "***List Operations***"
   ]
  },
  {
   "cell_type": "code",
   "execution_count": 14,
   "id": "f23be0d5-8418-4dd0-bc39-fe0326892d73",
   "metadata": {},
   "outputs": [
    {
     "name": "stdout",
     "output_type": "stream",
     "text": [
      "True\n"
     ]
    }
   ],
   "source": [
    "combined = [1, 2, 3] + [4, 5, 6]  # [1, 2, 3, 4, 5, 6]\n",
    "repeated = [0] * 5  # [0, 0, 0, 0, 0]\n",
    "print(3 in combined)  # Output: True"
   ]
  },
  {
   "cell_type": "code",
   "execution_count": 15,
   "id": "e535a01f-7897-4281-99a6-1eca9bf0c45b",
   "metadata": {},
   "outputs": [
    {
     "data": {
      "text/plain": [
       "[1, 2, 3, 4, 5, 6]"
      ]
     },
     "execution_count": 15,
     "metadata": {},
     "output_type": "execute_result"
    }
   ],
   "source": [
    "combined"
   ]
  },
  {
   "cell_type": "markdown",
   "id": "60d1876b-b648-4dc5-ae52-afac5f3194a6",
   "metadata": {},
   "source": [
    "***List Methos***"
   ]
  },
  {
   "cell_type": "code",
   "execution_count": 16,
   "id": "cca98f5e-ee6c-476c-9896-e48eee5a7241",
   "metadata": {},
   "outputs": [],
   "source": [
    "numbers = [3, 2, 1]\n",
    "numbers.append(4)  # [3, 2, 1, 4]\n",
    "numbers.remove(2)  # [3, 1, 4]\n",
    "numbers.sort()     # [1, 3, 4]\n",
    "numbers.reverse()  # [4, 3, 1]"
   ]
  },
  {
   "cell_type": "code",
   "execution_count": 17,
   "id": "4e3c200a-6d15-4022-a793-2dc8e65eddc1",
   "metadata": {},
   "outputs": [
    {
     "data": {
      "text/plain": [
       "[4, 3, 1]"
      ]
     },
     "execution_count": 17,
     "metadata": {},
     "output_type": "execute_result"
    }
   ],
   "source": [
    "numbers"
   ]
  },
  {
   "cell_type": "markdown",
   "id": "fd0a8026-c327-42f9-8ea5-037db538535d",
   "metadata": {},
   "source": [
    "## Tuples"
   ]
  },
  {
   "cell_type": "markdown",
   "id": "c1fc7047-4bca-4d79-a68c-bb9f70245497",
   "metadata": {},
   "source": [
    "***Tuple Initialization and Access***"
   ]
  },
  {
   "cell_type": "code",
   "execution_count": 18,
   "id": "4b7eeabb-4f56-437d-90ac-7a30589bfdb3",
   "metadata": {},
   "outputs": [
    {
     "name": "stdout",
     "output_type": "stream",
     "text": [
      "1\n"
     ]
    }
   ],
   "source": [
    "t = (1, 2, 3, \"cheese\")\n",
    "print(t[0])  # Output: 1\n",
    "# t[3] = \"hello\"  # this will raise an error"
   ]
  },
  {
   "cell_type": "markdown",
   "id": "d413987f-bd70-47f7-ac44-575d5bb8be54",
   "metadata": {},
   "source": [
    "***Tuple Operations***"
   ]
  },
  {
   "cell_type": "code",
   "execution_count": 19,
   "id": "8c948459-65e3-4449-9a38-932613f73d5f",
   "metadata": {},
   "outputs": [
    {
     "name": "stdout",
     "output_type": "stream",
     "text": [
      "(1, 2, 3, 4, 5, 6)\n",
      "(1, 2, 3, 1, 2, 3)\n"
     ]
    }
   ],
   "source": [
    "tuple1 = (1, 2, 3)\n",
    "tuple2 = (4, 5, 6)\n",
    "combined_tuple = tuple1 + tuple2\n",
    "repeated_tuple = tuple1 * 2\n",
    "print(combined_tuple)  # Output: (1, 2, 3, 4, 5, 6)\n",
    "print(repeated_tuple)  # Output: (1, 2, 3, 1, 2, 3)"
   ]
  },
  {
   "cell_type": "markdown",
   "id": "5c4a0315-3274-4edd-8252-91ab4dff74ff",
   "metadata": {},
   "source": [
    "***Tuple Unpacking***"
   ]
  },
  {
   "cell_type": "code",
   "execution_count": 20,
   "id": "5dc6083b-3b5a-4803-b9a1-0d3c31f85e9b",
   "metadata": {},
   "outputs": [
    {
     "name": "stdout",
     "output_type": "stream",
     "text": [
      "apple\n",
      "banana\n",
      "cherry\n"
     ]
    }
   ],
   "source": [
    "my_tuple = (\"apple\", \"banana\", \"cherry\")\n",
    "fruit1, fruit2, fruit3 = my_tuple\n",
    "print(fruit1)  # Output: apple\n",
    "print(fruit2)  # Output: banana\n",
    "print(fruit3)  # Output: cherry"
   ]
  },
  {
   "cell_type": "markdown",
   "id": "b1703bed-7d92-4c97-893a-4e209ee924b4",
   "metadata": {},
   "source": [
    "## Conditional Statements"
   ]
  },
  {
   "cell_type": "markdown",
   "id": "08e7e869-39be-4aef-ba71-d1ce554526c4",
   "metadata": {},
   "source": [
    "***If Statement***"
   ]
  },
  {
   "cell_type": "code",
   "execution_count": 21,
   "id": "cc3db6b6-51ad-4f43-a5d5-6ec51e896bf1",
   "metadata": {},
   "outputs": [
    {
     "name": "stdout",
     "output_type": "stream",
     "text": [
      "x is greater than 5\n"
     ]
    }
   ],
   "source": [
    "x = 10\n",
    "if x > 5:\n",
    "    print(\"x is greater than 5\")"
   ]
  },
  {
   "cell_type": "markdown",
   "id": "d44609f9-f923-4708-a709-c183a04d2e41",
   "metadata": {},
   "source": [
    "***If-else Statement***"
   ]
  },
  {
   "cell_type": "markdown",
   "id": "b323a9bb-dcd2-439f-8aff-4129b95a21b1",
   "metadata": {},
   "source": [
    "x = 3\n",
    "if x > 5:\n",
    "    print(\"x is greater than 5\")\n",
    "else:\n",
    "    print(\"x is not greater than 5\")\n"
   ]
  },
  {
   "cell_type": "markdown",
   "id": "254b2997-b26e-4d33-a7a8-5fec47dea3c2",
   "metadata": {},
   "source": [
    "***If-elif-else Statement***"
   ]
  },
  {
   "cell_type": "code",
   "execution_count": 23,
   "id": "0dfbcdf5-efda-47a9-9e49-cd024c039ee3",
   "metadata": {},
   "outputs": [
    {
     "name": "stdout",
     "output_type": "stream",
     "text": [
      "x is greater than 5 but less than or equal to 10\n"
     ]
    }
   ],
   "source": [
    "x = 7\n",
    "if x > 10:\n",
    "    print(\"x is greater than 10\")\n",
    "elif x > 5:\n",
    "    print(\"x is greater than 5 but less than or equal to 10\")\n",
    "else:\n",
    "    print(\"x is 5 or less\")\n"
   ]
  },
  {
   "cell_type": "markdown",
   "id": "7635ae14-f291-4dab-bfa8-df4367aeba5c",
   "metadata": {},
   "source": [
    "## Looping Statements"
   ]
  },
  {
   "cell_type": "markdown",
   "id": "9e2aec6a-93b5-444f-90bc-88d82cc13393",
   "metadata": {},
   "source": [
    "***For Loop***"
   ]
  },
  {
   "cell_type": "code",
   "execution_count": 24,
   "id": "1ba1a12d-88aa-4a2d-a4d0-63b101d33f91",
   "metadata": {},
   "outputs": [
    {
     "name": "stdout",
     "output_type": "stream",
     "text": [
      "apple\n",
      "banana\n",
      "cherry\n"
     ]
    }
   ],
   "source": [
    "fruits = [\"apple\", \"banana\", \"cherry\"]\n",
    "for fruit in fruits:\n",
    "    print(fruit)\n"
   ]
  },
  {
   "cell_type": "markdown",
   "id": "6530e63a-9f7b-4a4a-945d-4209232597c9",
   "metadata": {},
   "source": [
    "***For Loop with range()***"
   ]
  },
  {
   "cell_type": "code",
   "execution_count": 25,
   "id": "5b6ad80e-2e6c-4612-90f9-267f8f8a1a92",
   "metadata": {},
   "outputs": [
    {
     "name": "stdout",
     "output_type": "stream",
     "text": [
      "0\n",
      "1\n",
      "2\n",
      "3\n",
      "4\n"
     ]
    }
   ],
   "source": [
    "for i in range(0, 5):\n",
    "    print(i)\n"
   ]
  },
  {
   "cell_type": "markdown",
   "id": "7692aa01-47d5-4069-94c3-3f44e3def6ea",
   "metadata": {},
   "source": [
    "***While Loop***"
   ]
  },
  {
   "cell_type": "code",
   "execution_count": 27,
   "id": "29f6b9f2-33ed-4ff9-99f2-fd20a3dad1e3",
   "metadata": {},
   "outputs": [
    {
     "name": "stdout",
     "output_type": "stream",
     "text": [
      "0\n",
      "1\n",
      "2\n",
      "3\n",
      "4\n"
     ]
    }
   ],
   "source": [
    "count = 0\n",
    "while count < 5:\n",
    "    print(count)\n",
    "    count += 1\n"
   ]
  },
  {
   "cell_type": "markdown",
   "id": "8d535923-da27-4ec1-90e6-b26a2d465909",
   "metadata": {},
   "source": [
    "## Functions"
   ]
  },
  {
   "cell_type": "markdown",
   "id": "420fbf73-b07c-4c96-8b11-7ffda1cfee62",
   "metadata": {},
   "source": [
    "***Defining and Calling Functions***"
   ]
  },
  {
   "cell_type": "code",
   "execution_count": 28,
   "id": "e65e7ac9-0af7-4f59-940c-1ace0e0672fe",
   "metadata": {},
   "outputs": [
    {
     "name": "stdout",
     "output_type": "stream",
     "text": [
      "Hello, Alice!\n"
     ]
    }
   ],
   "source": [
    "def greet(name):\n",
    "    print(f\"Hello, {name}!\")\n",
    "\n",
    "greet(\"Alice\")  # Output: \"Hello, Alice!\"\n"
   ]
  },
  {
   "cell_type": "markdown",
   "id": "2e386d92-c27c-4041-8325-82fecd1f022e",
   "metadata": {},
   "source": [
    "***Local Variables***"
   ]
  },
  {
   "cell_type": "code",
   "execution_count": 48,
   "id": "99bed9a3-2580-4358-a5ce-3db921e96c52",
   "metadata": {},
   "outputs": [
    {
     "name": "stdout",
     "output_type": "stream",
     "text": [
      "10\n"
     ]
    },
    {
     "ename": "NameError",
     "evalue": "name 'local_var' is not defined",
     "output_type": "error",
     "traceback": [
      "\u001b[0;31m---------------------------------------------------------------------------\u001b[0m",
      "\u001b[0;31mNameError\u001b[0m                                 Traceback (most recent call last)",
      "Cell \u001b[0;32mIn[48], line 6\u001b[0m\n\u001b[1;32m      3\u001b[0m     \u001b[38;5;28mprint\u001b[39m(local_var)\n\u001b[1;32m      5\u001b[0m my_function()  \u001b[38;5;66;03m# Output: 10\u001b[39;00m\n\u001b[0;32m----> 6\u001b[0m \u001b[38;5;28mprint\u001b[39m(\u001b[43mlocal_var\u001b[49m)  \u001b[38;5;66;03m# this will raise an error\u001b[39;00m\n",
      "\u001b[0;31mNameError\u001b[0m: name 'local_var' is not defined"
     ]
    }
   ],
   "source": [
    "def my_function():\n",
    "    local_var = 10\n",
    "    print(local_var)\n",
    "\n",
    "my_function()  # Output: 10\n",
    "print(local_var)  # this will raise an error\n"
   ]
  },
  {
   "cell_type": "markdown",
   "id": "077ec6b6-9a75-4e5b-b744-70644a6b7c14",
   "metadata": {},
   "source": [
    "***Positional Arguments***"
   ]
  },
  {
   "cell_type": "code",
   "execution_count": 30,
   "id": "8a899b8c-1ea1-4c94-8e36-69838a6e0db3",
   "metadata": {},
   "outputs": [
    {
     "name": "stdout",
     "output_type": "stream",
     "text": [
      "-2\n"
     ]
    }
   ],
   "source": [
    "def add(a, b):\n",
    "    return a - b\n",
    "\n",
    "result = add(3, 5)\n",
    "print(result)  # Output: -2\n"
   ]
  },
  {
   "cell_type": "markdown",
   "id": "cc6c8e6f-3178-4026-ba4f-5ecc37f1f06e",
   "metadata": {},
   "source": [
    "***Keyword Arguments***"
   ]
  },
  {
   "cell_type": "code",
   "execution_count": 32,
   "id": "0fd81881-dc2b-4148-9405-2b1c6cbceab5",
   "metadata": {},
   "outputs": [
    {
     "name": "stdout",
     "output_type": "stream",
     "text": [
      "I have a dog named Buddy.\n"
     ]
    }
   ],
   "source": [
    "def describe_pet(animal_type, pet_name):\n",
    "    print(f\"I have a {animal_type} named {pet_name}.\")\n",
    "\n",
    "describe_pet(animal_type=\"dog\", pet_name=\"Buddy\")\n"
   ]
  },
  {
   "cell_type": "markdown",
   "id": "2a0a5eac-de2c-4156-8045-58881bd6d3ed",
   "metadata": {},
   "source": [
    "***Default Parameters***"
   ]
  },
  {
   "cell_type": "code",
   "execution_count": 34,
   "id": "87ad11c8-46b2-4786-8cce-b54704542c98",
   "metadata": {},
   "outputs": [
    {
     "name": "stdout",
     "output_type": "stream",
     "text": [
      "Hello, stranger!\n",
      "Hello, Alice!\n"
     ]
    }
   ],
   "source": [
    "def greet(name=\"stranger\"):\n",
    "    print(f\"Hello, {name}!\")\n",
    "\n",
    "greet()  # Output: Hello, stranger!\n",
    "greet(\"Alice\")  # Output: Hello, Alice!\n"
   ]
  },
  {
   "cell_type": "markdown",
   "id": "46d0659c-6989-4a78-8198-0a3264fd984c",
   "metadata": {},
   "source": [
    "***Returning Values***"
   ]
  },
  {
   "cell_type": "code",
   "execution_count": 35,
   "id": "8092ba25-d4ea-4c1f-aabf-1b6208bd8bfe",
   "metadata": {},
   "outputs": [
    {
     "name": "stdout",
     "output_type": "stream",
     "text": [
      "16\n"
     ]
    }
   ],
   "source": [
    "def square(x):\n",
    "    return x ** 2\n",
    "\n",
    "result = square(4)\n",
    "print(result)  # Output: 16\n"
   ]
  },
  {
   "cell_type": "markdown",
   "id": "25872bbf-4d6d-46dc-a38e-5f0b38650075",
   "metadata": {},
   "source": [
    "***Returning Multiple Values***"
   ]
  },
  {
   "cell_type": "code",
   "execution_count": 36,
   "id": "b49b974e-80c5-4b40-9224-70dd525b20a8",
   "metadata": {},
   "outputs": [
    {
     "name": "stdout",
     "output_type": "stream",
     "text": [
      "Alice\n",
      "30\n"
     ]
    }
   ],
   "source": [
    "def get_user_info():\n",
    "    name = \"Alice\"\n",
    "    age = 30\n",
    "    return name, age\n",
    "\n",
    "user_name, user_age = get_user_info()  # using tuple unpacking\n",
    "print(user_name)  # Output: Alice\n",
    "print(user_age)  # Output: 30\n"
   ]
  },
  {
   "cell_type": "markdown",
   "id": "c3eb6fa7-7abe-4652-93cb-943c96faeb77",
   "metadata": {},
   "source": [
    "## File I/O"
   ]
  },
  {
   "cell_type": "markdown",
   "id": "619020a2-59f6-43f3-afe1-f605cf847ed5",
   "metadata": {},
   "source": [
    "***Opening and Closing Files***"
   ]
  },
  {
   "cell_type": "code",
   "execution_count": 38,
   "id": "36b17d08-d3f7-412a-bd35-15e8b270d3b8",
   "metadata": {},
   "outputs": [],
   "source": [
    "file = open(\"example.txt\", \"r\")\n",
    "file.close()\n"
   ]
  },
  {
   "cell_type": "markdown",
   "id": "202b8a0a-1032-4db5-9eac-6edb95e7f729",
   "metadata": {},
   "source": [
    "***Reading Entire File***"
   ]
  },
  {
   "cell_type": "code",
   "execution_count": 40,
   "id": "56ead52f-c4d9-4831-bd67-4a3099823146",
   "metadata": {},
   "outputs": [
    {
     "name": "stdout",
     "output_type": "stream",
     "text": [
      "QUT\n"
     ]
    }
   ],
   "source": [
    "with open(\"example.txt\", \"r\") as file:\n",
    "    content = file.read()\n",
    "    print(content)"
   ]
  },
  {
   "cell_type": "markdown",
   "id": "be5e2164-a5d3-4067-a002-f26aecb96254",
   "metadata": {},
   "source": [
    "***Reading Line by Line***"
   ]
  },
  {
   "cell_type": "code",
   "execution_count": 41,
   "id": "5391a0b4-eaa7-4cba-8b05-384f982b5244",
   "metadata": {},
   "outputs": [
    {
     "name": "stdout",
     "output_type": "stream",
     "text": [
      "QUT\n"
     ]
    }
   ],
   "source": [
    "with open(\"example.txt\", \"r\") as file:\n",
    "    for line in file:\n",
    "        print(line.strip())  # remove newline characters"
   ]
  },
  {
   "cell_type": "markdown",
   "id": "1b5c46b6-7afb-4bfe-b063-953d9645ea21",
   "metadata": {},
   "source": [
    "***Reading All Lines***"
   ]
  },
  {
   "cell_type": "code",
   "execution_count": 42,
   "id": "406b7c2d-45f5-4767-bad9-f6d2f8d985e4",
   "metadata": {},
   "outputs": [
    {
     "name": "stdout",
     "output_type": "stream",
     "text": [
      "['QUT']\n"
     ]
    }
   ],
   "source": [
    "with open(\"example.txt\", \"r\") as file:\n",
    "    lines = file.readlines()\n",
    "    print(lines)\n"
   ]
  },
  {
   "cell_type": "markdown",
   "id": "ee52d704-7a4c-49e0-95b5-a51237fc3f64",
   "metadata": {},
   "source": [
    "***Writing to Files***"
   ]
  },
  {
   "cell_type": "code",
   "execution_count": 43,
   "id": "bd458b02-db82-44a9-82ae-68245cda6dc2",
   "metadata": {},
   "outputs": [],
   "source": [
    "with open(\"example.txt\", \"w\") as file:\n",
    "    file.write(\"Hello, world!\\n\")\n",
    "    file.write(\"This is a new line.\\n\")\n"
   ]
  },
  {
   "cell_type": "markdown",
   "id": "4aef6373-69e3-4cfa-83b8-9552164510c1",
   "metadata": {},
   "source": [
    "***Appending Text to a File***"
   ]
  },
  {
   "cell_type": "code",
   "execution_count": 45,
   "id": "fac94a0b-5149-4d43-b855-0113910d17e9",
   "metadata": {},
   "outputs": [],
   "source": [
    "with open(\"example.txt\", \"a\") as file:\n",
    "    file.write(\"Appending a new line.\\n\")\n"
   ]
  },
  {
   "cell_type": "markdown",
   "id": "aa8d34c0-b1fb-4d6e-b0d0-8447c3d1727b",
   "metadata": {},
   "source": [
    "***Using Context Managers***"
   ]
  },
  {
   "cell_type": "code",
   "execution_count": 46,
   "id": "9a12b993-a30e-4746-aeb1-e04172124067",
   "metadata": {},
   "outputs": [
    {
     "name": "stdout",
     "output_type": "stream",
     "text": [
      "Hello, world!\n",
      "This is a new line.\n",
      "Appending a new line.\n",
      "\n"
     ]
    }
   ],
   "source": [
    "with open(\"example.txt\", \"r\") as file:\n",
    "    content = file.read()\n",
    "    print(content)\n",
    "    # No need to call file.close()\n"
   ]
  },
  {
   "cell_type": "code",
   "execution_count": null,
   "id": "db3e8fd7-2f25-4cc6-b3e0-b5dd28cf3369",
   "metadata": {},
   "outputs": [],
   "source": []
  }
 ],
 "metadata": {
  "kernelspec": {
   "display_name": "Python 3 (ipykernel)",
   "language": "python",
   "name": "python3"
  },
  "language_info": {
   "codemirror_mode": {
    "name": "ipython",
    "version": 3
   },
   "file_extension": ".py",
   "mimetype": "text/x-python",
   "name": "python",
   "nbconvert_exporter": "python",
   "pygments_lexer": "ipython3",
   "version": "3.12.3"
  }
 },
 "nbformat": 4,
 "nbformat_minor": 5
}
