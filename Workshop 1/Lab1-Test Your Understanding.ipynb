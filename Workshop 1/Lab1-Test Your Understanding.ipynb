{
 "cells": [
  {
   "cell_type": "markdown",
   "id": "f3fccb8a-4a15-451e-8c05-2ba36891cd5f",
   "metadata": {},
   "source": [
    "# IAB330 Tutorial 1: Introduction to Python Programming\n",
    "\n",
    "***Unit Coordinator: A/Prof Sara Khalifa (sara.khalifa@qut.edu.au)***\n",
    "\n",
    "***Tutor: Mr. Tao Liu (t24.liu@hdr.qut.edu.au)***\n",
    "\n",
    "***Tutor: Sk Tanzir Mehedi (s.tanzir@qut.edu.au)***"
   ]
  },
  {
   "cell_type": "markdown",
   "id": "54c8c144-e77b-4834-abf6-8fcc0dbc4a27",
   "metadata": {},
   "source": [
    "## Solution 1: Basic Data Types and List Manipulation"
   ]
  },
  {
   "cell_type": "code",
   "execution_count": 5,
   "id": "2b71b57f-a83f-4983-b074-f25c5819c8ec",
   "metadata": {},
   "outputs": [
    {
     "data": {
      "text/plain": [
       "[1, 2, 3, 4, 5]"
      ]
     },
     "execution_count": 5,
     "metadata": {},
     "output_type": "execute_result"
    }
   ],
   "source": [
    "# 1. Create a list of the first five positive integers.\n",
    "my_list = [1, 2, 3, 4, 5]\n",
    "my_list"
   ]
  },
  {
   "cell_type": "code",
   "execution_count": 6,
   "id": "f29d00f6-ba7c-4203-ba9e-4c14893982a6",
   "metadata": {},
   "outputs": [
    {
     "data": {
      "text/plain": [
       "[1, 2, 3, 4, 5, 6.0]"
      ]
     },
     "execution_count": 6,
     "metadata": {},
     "output_type": "execute_result"
    }
   ],
   "source": [
    "# 2. Add the float number 6.0 to the end of the list.\n",
    "my_list.append(6.0)\n",
    "my_list"
   ]
  },
  {
   "cell_type": "code",
   "execution_count": 7,
   "id": "78951e23-5c23-4c19-9e44-cac68c027f4d",
   "metadata": {},
   "outputs": [
    {
     "data": {
      "text/plain": [
       "[0, 1, 2, 3, 4, 5, 6.0]"
      ]
     },
     "execution_count": 7,
     "metadata": {},
     "output_type": "execute_result"
    }
   ],
   "source": [
    "# 3. Insert the integer 0 at the beginning of the list.\n",
    "my_list.insert(0, 0)\n",
    "my_list"
   ]
  },
  {
   "cell_type": "code",
   "execution_count": 8,
   "id": "3508d688-1e3d-40db-a95f-e492f6c67f98",
   "metadata": {},
   "outputs": [
    {
     "data": {
      "text/plain": [
       "[0, 1, 2, 4, 5, 6.0]"
      ]
     },
     "execution_count": 8,
     "metadata": {},
     "output_type": "execute_result"
    }
   ],
   "source": [
    "# 4. Remove the integer 3 from the list.\n",
    "my_list.remove(3)\n",
    "my_list"
   ]
  },
  {
   "cell_type": "code",
   "execution_count": 9,
   "id": "e627852d-298a-45e5-8c88-20f677736fd3",
   "metadata": {},
   "outputs": [
    {
     "data": {
      "text/plain": [
       "[0, 1, 2, 4, 5, 'end']"
      ]
     },
     "execution_count": 9,
     "metadata": {},
     "output_type": "execute_result"
    }
   ],
   "source": [
    "# 5. Replace the last element in the list with the string “end”.\n",
    "my_list[-1] = \"end\"\n",
    "my_list"
   ]
  },
  {
   "cell_type": "code",
   "execution_count": 10,
   "id": "5cd66cf0-052e-4559-a690-ee7409d145fa",
   "metadata": {},
   "outputs": [
    {
     "name": "stdout",
     "output_type": "stream",
     "text": [
      "[0, 1, 2, 4, 5, 'end']\n"
     ]
    }
   ],
   "source": [
    "# 6. Print the final state of the list.\n",
    "print(my_list)  # Output: [0, 1, 2, 4, 5, 'end']"
   ]
  },
  {
   "cell_type": "markdown",
   "id": "169783d9-8df6-498e-a081-cc6e31c363fe",
   "metadata": {},
   "source": [
    "## Solution 2: String Manipulation and Functions"
   ]
  },
  {
   "cell_type": "code",
   "execution_count": 18,
   "id": "6924ec4e-5b7c-4b1c-b1bc-fd8f7c853e7c",
   "metadata": {},
   "outputs": [],
   "source": [
    "# 1. Define a function reverse_string that takes a string as an argument and returns the string reversed.\n",
    "def reverse_string(s):\n",
    "    return s[::-1]"
   ]
  },
  {
   "cell_type": "code",
   "execution_count": 19,
   "id": "6b265866-f59c-4251-bffa-94f1828f8fdb",
   "metadata": {},
   "outputs": [],
   "source": [
    "# 2. Define a function is_palindrome that takes a string as an argument and returns True if the string is a palindrome, and False otherwise.\n",
    "def is_palindrome(s):\n",
    "    return s == s[::-1]"
   ]
  },
  {
   "cell_type": "code",
   "execution_count": 20,
   "id": "57e75cf7-aa9f-41ae-a03e-ae2d8acd86cf",
   "metadata": {},
   "outputs": [
    {
     "name": "stdin",
     "output_type": "stream",
     "text": [
      "Please enter a string:  AAA\n"
     ]
    }
   ],
   "source": [
    "# 3. Ask the user to input a string.\n",
    "s = input(\"Please enter a string: \")"
   ]
  },
  {
   "cell_type": "code",
   "execution_count": 21,
   "id": "82b0d6e4-8406-4261-b691-9a4d6761f383",
   "metadata": {},
   "outputs": [
    {
     "name": "stdout",
     "output_type": "stream",
     "text": [
      "Reversed string: AAA\n"
     ]
    }
   ],
   "source": [
    "# 4. Use the reverse_string function to reverse the user’s input and print the result.\n",
    "print(\"Reversed string:\", reverse_string(s))"
   ]
  },
  {
   "cell_type": "code",
   "execution_count": 22,
   "id": "a1b372a3-0273-4f9f-baf0-9804982d399d",
   "metadata": {},
   "outputs": [
    {
     "name": "stdout",
     "output_type": "stream",
     "text": [
      "Is palindrome: True\n"
     ]
    }
   ],
   "source": [
    "# 5. Use the is_palindrome function to check if the user’s input is a palindrome and print the result.\n",
    "print(\"Is palindrome:\", is_palindrome(s))"
   ]
  },
  {
   "cell_type": "markdown",
   "id": "98f865d6-5598-44a4-9793-0d2dd092a2fb",
   "metadata": {},
   "source": [
    "## Solution 3: File I/O"
   ]
  },
  {
   "cell_type": "code",
   "execution_count": 14,
   "id": "86c27fa7-b8f1-45fa-842f-485844d39379",
   "metadata": {},
   "outputs": [],
   "source": [
    "# Step 1: Create a text file named students.txt and write the names of five students, each on a new line.\n",
    "with open(\"students.txt\", \"w\") as file:\n",
    "    file.write(\"Alice\\n\")\n",
    "    file.write(\"Bob\\n\")\n",
    "    file.write(\"Charlie\\n\")\n",
    "    file.write(\"Eve\\n\")\n",
    "    file.write(\"Frank\\n\")"
   ]
  },
  {
   "cell_type": "code",
   "execution_count": 15,
   "id": "3d5790dd-d761-42e1-a54c-c7fcf42d8dc2",
   "metadata": {},
   "outputs": [
    {
     "name": "stdout",
     "output_type": "stream",
     "text": [
      "Initial file contents:\n",
      "Alice\n",
      "Bob\n",
      "Charlie\n",
      "Eve\n",
      "Frank\n"
     ]
    }
   ],
   "source": [
    "# Step 2: Read the contents of the students.txt file and print each name.\n",
    "with open(\"students.txt\", \"r\") as file:\n",
    "    print(\"Initial file contents:\")\n",
    "    for line in file:\n",
    "        print(line.strip())"
   ]
  },
  {
   "cell_type": "code",
   "execution_count": 16,
   "id": "d55dafbd-9d9d-448a-812b-3a14475f64b9",
   "metadata": {},
   "outputs": [],
   "source": [
    "# Step 3: Append the name “David” to the students.txt file.\n",
    "with open(\"students.txt\", \"a\") as file:\n",
    "    file.write(\"David\\n\")"
   ]
  },
  {
   "cell_type": "code",
   "execution_count": 17,
   "id": "a6127238-f190-4bba-ba8b-e4c056a22ece",
   "metadata": {},
   "outputs": [
    {
     "name": "stdout",
     "output_type": "stream",
     "text": [
      "\n",
      "Updated file contents in reverse order:\n",
      "David\n",
      "Frank\n",
      "Eve\n",
      "Charlie\n",
      "Bob\n",
      "Alice\n"
     ]
    }
   ],
   "source": [
    "# Step 4: Read the contents of the updated students.txt file and print each name in reverse order.\n",
    "with open(\"students.txt\", \"r\") as file:\n",
    "    lines = file.readlines()\n",
    "    print(\"\\nUpdated file contents in reverse order:\")\n",
    "    for line in reversed(lines):\n",
    "        print(line.strip())"
   ]
  },
  {
   "cell_type": "code",
   "execution_count": null,
   "id": "f02cc2a2-29b1-4de7-985a-cc6baedfa7e6",
   "metadata": {},
   "outputs": [],
   "source": []
  }
 ],
 "metadata": {
  "kernelspec": {
   "display_name": "Python 3 (ipykernel)",
   "language": "python",
   "name": "python3"
  },
  "language_info": {
   "codemirror_mode": {
    "name": "ipython",
    "version": 3
   },
   "file_extension": ".py",
   "mimetype": "text/x-python",
   "name": "python",
   "nbconvert_exporter": "python",
   "pygments_lexer": "ipython3",
   "version": "3.12.3"
  }
 },
 "nbformat": 4,
 "nbformat_minor": 5
}
